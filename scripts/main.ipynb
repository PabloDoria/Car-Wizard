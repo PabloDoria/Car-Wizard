{
 "cells": [
  {
   "cell_type": "code",
   "execution_count": 4,
   "metadata": {},
   "outputs": [
    {
     "name": "stdout",
     "output_type": "stream",
     "text": [
      "CREATE TABLE Trims (\n",
      "    id INTEGER,\n",
      "    make_model_id INTEGER,\n",
      "    year INTEGER,\n",
      "    name VARCHAR(50),\n",
      "    description VARCHAR(50),\n",
      "    msrp INTEGER,\n",
      "    engine_id INTEGER,\n",
      "    body_id INTEGER,\n",
      "    mileage_id INTEGER,\n",
      "    PRIMARY KEY (id)\n",
      ");\n",
      "CREATE TABLE Make_Models (\n",
      "    id INTEGER,\n",
      "    make_id INTEGER,\n",
      "    name VARCHAR(50),\n",
      "    PRIMARY KEY (id)\n",
      ");\n"
     ]
    }
   ],
   "source": [
    "from endpointsCarAPI.GetTrimsId import get_filtered_trims_df\n",
    "from endpointsCarAPI.GetEngines import get_engines_by_trim_ids\n",
    "from endpointsCarAPI.GetBodies import get_bodies_by_trim_ids\n",
    "from endpointsCarAPI.GetMileages import get_mileages_by_trim_ids\n",
    "from endpointsCarAPI.GetTrims import get_trims_and_models\n",
    "from DBCreator import generate_create_table\n",
    "from endpointsCarAPI.GetYears import get_filtered_years_df\n",
    "from endpointsCarAPI.GetMakes import get_specific_makes_df\n",
    "from endpointsCarAPI.GetModels import get_specific_models_df\n",
    "\n",
    "trims_df = get_filtered_trims_df()\n",
    "\n",
    "df1, df2 = get_trims_and_models(trims_df[\"id\"].tolist())\n",
    "\n",
    "create_table_sql = generate_create_table(df1, \"Trims\", primary_key=\"id\")\n",
    "print(create_table_sql)\n",
    "\n",
    "create_table_sql = generate_create_table(df2, \"Make_Models\", primary_key=\"id\")\n",
    "print(create_table_sql)\n",
    "\n"
   ]
  },
  {
   "cell_type": "code",
   "execution_count": 3,
   "metadata": {},
   "outputs": [
    {
     "ename": "NameError",
     "evalue": "name 'df1' is not defined",
     "output_type": "error",
     "traceback": [
      "\u001b[1;31m---------------------------------------------------------------------------\u001b[0m",
      "\u001b[1;31mNameError\u001b[0m                                 Traceback (most recent call last)",
      "Input \u001b[1;32mIn [3]\u001b[0m, in \u001b[0;36m<module>\u001b[1;34m\u001b[0m\n\u001b[1;32m----> 1\u001b[0m \u001b[43mdf1\u001b[49m\n",
      "\u001b[1;31mNameError\u001b[0m: name 'df1' is not defined"
     ]
    }
   ],
   "source": [
    "df1"
   ]
  }
 ],
 "metadata": {
  "kernelspec": {
   "display_name": "Python 3",
   "language": "python",
   "name": "python3"
  },
  "language_info": {
   "codemirror_mode": {
    "name": "ipython",
    "version": 3
   },
   "file_extension": ".py",
   "mimetype": "text/x-python",
   "name": "python",
   "nbconvert_exporter": "python",
   "pygments_lexer": "ipython3",
   "version": "3.10.2"
  }
 },
 "nbformat": 4,
 "nbformat_minor": 2
}
